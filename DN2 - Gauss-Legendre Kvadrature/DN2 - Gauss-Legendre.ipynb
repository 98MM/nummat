{
 "cells": [
  {
   "cell_type": "markdown",
   "id": "586f08a1",
   "metadata": {},
   "source": [
    "## Gauss-Legendrove kvadrature\n",
    "\n",
    "Gauss-Legendrove kvadrature na intervalu $[-1, 1]$ definiramo z\n",
    "$$\\int_{-1}^{1} f(x) \\,dx \\approx \\sum_{i=1}^{n} w_if(x_i) $$.\n",
    "\n",
    "Želimo izpeljati Gauss-Legendrovo integracijsko pravilo na dveh točkah za interval $[0, h]$ in napako $R_f$ za\n",
    "$$\\int_{0}^{h} f(x) \\,dx \\approx Af(x_1) + Bf(x_2) + R_f $$.\n",
    "\n",
    "Določimo vozle in uteži izraza na intervalu $[-1, 1]$\n",
    "$$\\int_{-1}^{1} f(x) \\,dx = Af(x_1) + Bf(x_2) $$,\n",
    "ker imamo dve točki, vemo, da bo formula natančna za vse polinome reda $\\leq 3$. Če za $f$ vstavimo zaporedoma monome $p_0=1, p_1=x, p_2=x^2, p_3=x^3$, dobimo sistem nelinearnih enačb za neznanke $A, B, x_1, x_2$:\n",
    "$$A + B=2,$$\n",
    "$$Ax_1 + Bx_2=0,$$\n",
    "$$Ax_1^2 + Bx_2^2=\\frac{2}{3},$$\n",
    "$$Ax_1^3 + Bx_2^3=0$$\n",
    "\n",
    "katerega rešitev je $x_1=\\frac{-1}{\\sqrt{3}}, x_2=\\frac{1}{\\sqrt{3}}, A = B = 1$, kar nam da končni rezultat\n",
    "$$\\int_{-1}^{1} f(x) \\,dx \\approx 1*f(\\frac{-1}{\\sqrt3}) + 1*f(\\frac{1}{\\sqrt3}) $$.\n",
    "\n",
    "Konstanta napake je izračunana z\n",
    "$$c = \\int{-1}^{1} f(x) \\,dx - \\sum_{i=1}^{n} w_nx_i^p+1$$\n",
    "člen pa z\n",
    "$$R_f = \\frac{c}{(p+1)!}f^{(p+1)}(\\xi), a < \\xi < b\n",
    "\n",
    "kjer je p red metode. Ker računamo v dveh točkah za $f(x)$ vstavimo monom $p_4=x^4$ in poračunamo\n",
    "$$c = \\int{-1}^{1} x^4 \\,dx - [\\frac{1}{9} + \\frac{1}{9}] = \\frac{8}{45}$$.\n",
    "\n",
    "Člen napake $R_f$ je\n",
    "$$R_f=\\frac{c}{4!}f^{(4)}(\\xi)=\\frac{1}{135}f^{(4)}(\\xi), -1 < \\xi < 1.$$\n",
    "\n",
    "To lahko posplošimo na interval $[a, b]$ z linearno substitucijo\n",
    "$$t=a_0 + a_1x, t(a)=-1, t(b)=1$$.\n",
    "Dobimo\n",
    "$$\\int_{a}^{b} f(x) \\,dx = \\frac{b-a}{2} \\int_{-1}^{1} f(\\frac{(b-a)t+b+a}{2})  \\,dt$$.\n",
    "\n",
    "kar lahko aproksimiramo z\n",
    "\n",
    "$$\\int_{a}^{b} f(x) \\,dx \\approx \\frac{b-a}{2} \\sum_{i=1}^{n} w_i f(\\frac{b-a}{2}\\xi_i+\\frac{b+a}{2}), $$\n",
    "kjer so uteži\n",
    "$$w_i=\\frac{2}{(1-\\xi_i^2)[P'_n(\\xi_i)^2]}$$\n",
    "kjer so vrednosti $\\xi_i$ ničle n-tega Legendrovega polinoma $P_n(\\xi)$.\n",
    "\n",
    "Če vstavimo $a=0$ in $b=h$ dobimo\n",
    "$$\\int_{0}^{h} f(x) \\,dx = \\frac{h}{2} \\int_{-1}^{1} f(\\frac{ht+h}{2}) \\,dt, $$\n",
    "z napako\n",
    "$$R_f=\\frac{1}{135}f^{(4)}(\\xi), 0 < \\xi < h.$$\n",
    "\n"
   ]
  },
  {
   "cell_type": "markdown",
   "id": "2472794a",
   "metadata": {},
   "source": [
    "### Sestavljeno pravilo za izračun integrala\n",
    "$$I = \\int_{a}^{b} f(x) \\,dx$$\n",
    "dobimo tako, da interval $[a,b]$ razdelimo s točkami $a=x_0 < x_1 < x_2 < ... < x_N = b$ na $N$ podintervalov $[x_{i-1}, x_i]$, potem pa vsakega od $N$ integralov\n",
    "$$I = \\int_{x_{i-1}}^{x_i} f(x) \\,dx, $$za$$ i=1,...,N$$\n",
    "s pomočjo linearne substitucije spremenljivke x \n",
    "$$x = \\frac{x_i - x_{i-1}}{2}t + \\frac{x_{i-1}+x_i}{2}$$\n",
    "prevedemo na integral\n",
    "$$I_i = \\frac{x_i - x_{i-1}}{2} \\int_{-1}^{1} f(\\frac{x_i - x_{i-1}}{2}t + \\frac{x_{i-1}+x_i}{2}) dt$$,\n",
    "ga izračunamo in dobljene rezultate seštejemo\n",
    "$$I = I_1 + ... + I_N$$."
   ]
  },
  {
   "cell_type": "code",
   "execution_count": 4,
   "id": "8c4d9f9c",
   "metadata": {},
   "outputs": [],
   "source": [
    "import numpy as np\n",
    "import scipy.integrate as integrate"
   ]
  },
  {
   "cell_type": "code",
   "execution_count": 26,
   "id": "1b975765",
   "metadata": {},
   "outputs": [],
   "source": [
    "def fun(x):\n",
    "    return np.sin(x)/x\n",
    "\n",
    "def compound_rule(a, b, N, f):\n",
    "    \"\"\"\n",
    "    Calculates integral using compound Gauss-Legendre quadratures\n",
    "        a - lower bound of interval\n",
    "        b - upper bound of interval\n",
    "        N - number of subintervals\n",
    "        f - function to integrate\n",
    "    \"\"\"  \n",
    "    h = (b-a)/2\n",
    "    m = (a+b)/2\n",
    "    [x,w] = np.polynomial.legendre.leggauss(N) #abcissae and weights of Gauss-Legendre Quadrature, calculated with numpy, based on http://www.holoborodko.com/pavel/numerical-methods/numerical-integration/\n",
    "    res = 0.0\n",
    "    for i in range(N):\n",
    "        res += w[i]*f(h*x[i] + m)\n",
    "    res *= h\n",
    "    return res\n",
    "\n",
    "\n",
    "def eval(a,b,err,f):\n",
    "    \"\"\"\n",
    "    Evaluates number of subintervals needed for error to be lower than err\n",
    "        a - lower bound of interval\n",
    "        b - upper bound of interval\n",
    "        err - acceptable error\n",
    "        f - function to integrate\n",
    "    \"\"\"\n",
    "    actual = integrate.quad(lambda x: fun(x), 0, 5)[0] #integral of function, as calculated by scipy integrate\n",
    "    error = 1e10\n",
    "    \n",
    "    i=1\n",
    "    while error > err:\n",
    "        error = abs(actual - compound_rule(0,5,i,fun))\n",
    "        i+=1\n",
    "    \n",
    "    return i"
   ]
  },
  {
   "cell_type": "code",
   "execution_count": 27,
   "id": "469761de",
   "metadata": {},
   "outputs": [
    {
     "name": "stdout",
     "output_type": "stream",
     "text": [
      "8\n"
     ]
    }
   ],
   "source": [
    "print(eval(0,5,1e-10,fun))"
   ]
  },
  {
   "cell_type": "markdown",
   "id": "d7974788",
   "metadata": {},
   "source": [
    "Za izračun $I = \\int_{0}^{5} \\frac{sin(x)}{x} \\,dx$ je za željeno natačnost 10 decimalnih mest potrebnih 8 podintervalov."
   ]
  },
  {
   "cell_type": "markdown",
   "id": "ce650cee",
   "metadata": {},
   "source": [
    "### Viri\n",
    "1. [Holoborodko, Pavel: Numerical Integration](http://www.holoborodko.com/pavel/numerical-methods/numerical-integration/)\n",
    "2. Orel, Bojan: Osnove numerične matematike"
   ]
  },
  {
   "cell_type": "code",
   "execution_count": null,
   "id": "1ccb889b",
   "metadata": {},
   "outputs": [],
   "source": []
  }
 ],
 "metadata": {
  "kernelspec": {
   "display_name": "Python 3 (ipykernel)",
   "language": "python",
   "name": "python3"
  },
  "language_info": {
   "codemirror_mode": {
    "name": "ipython",
    "version": 3
   },
   "file_extension": ".py",
   "mimetype": "text/x-python",
   "name": "python",
   "nbconvert_exporter": "python",
   "pygments_lexer": "ipython3",
   "version": "3.9.7"
  }
 },
 "nbformat": 4,
 "nbformat_minor": 5
}
